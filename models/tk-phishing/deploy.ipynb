{
 "cells": [
  {
   "cell_type": "markdown",
   "metadata": {},
   "source": [
    "## Run config.sh script"
   ]
  },
  {
   "cell_type": "code",
   "execution_count": null,
   "metadata": {
    "tags": []
   },
   "outputs": [],
   "source": [
    "# Download requirements\n",
    "\n",
    "import subprocess\n",
    "\n",
    "print(\"Running config.sh\")\n",
    "subprocess.run([\"./config.sh\"],  stdout = subprocess.DEVNULL)\n",
    "\n",
    "print(\"DONE!\")"
   ]
  },
  {
   "cell_type": "markdown",
   "metadata": {},
   "source": [
    "## Init boto3 resources"
   ]
  },
  {
   "cell_type": "code",
   "execution_count": null,
   "metadata": {
    "tags": []
   },
   "outputs": [],
   "source": [
    "import boto3\n",
    "import sagemaker\n",
    "\n",
    "sm_boto3 = boto3.client(\"sagemaker\")\n",
    "\n",
    "sess = sagemaker.Session()\n",
    "role = sagemaker.get_execution_role()\n",
    "region = sess.boto_session.region_name\n",
    "\n",
    "bucket = sess.default_bucket()  # this could also be a hard-coded bucket name\n",
    "print(\"Using bucket \" + bucket)"
   ]
  },
  {
   "cell_type": "code",
   "execution_count": null,
   "metadata": {
    "tags": []
   },
   "outputs": [],
   "source": [
    "# List S3 bucket objects\n",
    "\n",
    "s3_boto = boto3.client(\"s3\")\n",
    "objects = s3_boto.list_objects_v2(Bucket=bucket)\n",
    "\n",
    "print(\"Current files in bucket\")\n",
    "for obj in objects['Contents']:\n",
    "    print(obj['Key'])\n",
    "    \n"
   ]
  },
  {
   "cell_type": "code",
   "execution_count": null,
   "metadata": {
    "tags": []
   },
   "outputs": [],
   "source": [
    "# Download data.\n",
    "import tarfile \n",
    "\n",
    "print(\"Download data\")\n",
    "s3_boto.download_file(bucket, \"data.tar.gz\", \"downloaded_data.tar.gz\")\n",
    "\n",
    "print(\"Extractintg data\")\n",
    "file = tarfile.open('downloaded_data.tar.gz')\n",
    "file.extractall('./')\n"
   ]
  },
  {
   "cell_type": "markdown",
   "metadata": {},
   "source": [
    "### Create keras model and predict sample"
   ]
  },
  {
   "cell_type": "code",
   "execution_count": null,
   "metadata": {
    "tags": []
   },
   "outputs": [],
   "source": [
    "# Just an example to predict\n",
    "import tensorflow as tf\n",
    "import os\n",
    "import pickle\n",
    "import numpy as np\n",
    "from sentence_transformers import SentenceTransformer\n",
    "\n",
    "categorical_encoder_folder = \"./data/categorical_encoders/\"\n",
    "\n",
    "subject = \"Email subject\"\n",
    "sender_name = \"test\"\n",
    "sender_email = \"test@booking.com\"\n",
    "sender_domain = \"booking.com\"\n",
    "description = \"Example desription\"\n",
    "sender_string = \"%s (%s)\"%(sender_name, sender_email)\n",
    "# Step: Encode(custom TK encoder) to represent providerse\n",
    "sender_name_one_hot_encoder = pickle.load(open(categorical_encoder_folder + \"sender_name_one_hot_encoder.pkl\", \"rb\"))\n",
    "sender_email_one_hot_encoder = pickle.load(open(categorical_encoder_folder + \"sender_email_one_hot_encoder.pkl\", \"rb\"))\n",
    "sender_domain_one_hot_encoder = pickle.load(open(categorical_encoder_folder + \"sender_domain_one_hot_encoder.pkl\", \"rb\"))\n",
    "input_categorical_fea = np.concatenate([\n",
    "    sender_name_one_hot_encoder.transform(np.array(sender_name).reshape(-1, 1)),\n",
    "    sender_email_one_hot_encoder.transform(np.array(sender_email).reshape(-1, 1)),\n",
    "    sender_domain_one_hot_encoder.transform(np.array(sender_domain).reshape(-1, 1))\n",
    "], axis=1)\n",
    "\n",
    "# Step 2: Encode pure text(using google stuff)\n",
    "transformer_path = \"./data/distiluse-base-multilingual-cased-v2\"\n",
    "transformer = SentenceTransformer(transformer_path)\n",
    "\n",
    "subject_fea = transformer.encode(subject).reshape(1, -1)\n",
    "description_fea = transformer.encode(description).reshape(1, -1)\n",
    "sender_fea = transformer.encode(sender_string).reshape(1, -1)\n",
    "\n",
    "# Predict using the features.\n",
    "model = tf.keras.models.load_model('./data/phishing_classifier_simple.h5')\n",
    "# This has to be in the same order\n",
    "pred = model.predict([subject_fea, description_fea, sender_fea, input_categorical_fea])\n",
    "print(\"The possiblity of a phishing 0(phishing) -> 1(phishing)\")\n",
    "pred[0][0]"
   ]
  },
  {
   "cell_type": "markdown",
   "metadata": {},
   "source": [
    "### Upload model to a compatible SageMaker model"
   ]
  },
  {
   "cell_type": "code",
   "execution_count": null,
   "metadata": {
    "tags": []
   },
   "outputs": [],
   "source": [
    "import os.path\n",
    "import tarfile\n",
    "\n",
    "tf.saved_model.save(model, \"./model/phishing/1\")\n",
    "\n",
    "artificate_upload_file_name = \"model.tar.gz\"\n",
    "\n",
    "with tarfile.open('model.tar.gz', mode='w:gz') as archive:\n",
    "    archive.add(\"./model/phishing\")\n",
    "\n",
    "\n",
    "client.upload_file(artificate_upload_file_name,\n",
    "                  bucket,\n",
    "                  artificate_upload_file_name)\n"
   ]
  },
  {
   "cell_type": "markdown",
   "metadata": {},
   "source": [
    "## Deploy to a real-time endpoint"
   ]
  },
  {
   "cell_type": "markdown",
   "metadata": {},
   "source": [
    "An `Estimator` could be deployed directly after training, with an `Estimator.deploy()` but here we showcase the more extensive process of creating a model from s3 artifacts, that could be used to deploy a model that was trained in a different session or even out of SageMaker."
   ]
  },
  {
   "cell_type": "code",
   "execution_count": null,
   "metadata": {
    "tags": []
   },
   "outputs": [],
   "source": [
    "%%time\n",
    "\n",
    "from sagemaker.tensorflow import TensorFlowModel\n",
    "\n",
    "model_data = 's3://sagemaker-eu-west-1-889192205753/model.tar.gz'\n",
    "\n",
    "model = TensorFlowModel(\n",
    "    entry_point=\"inference.py\",\n",
    "    source_dir=\"code\",\n",
    "    model_data=model_data,\n",
    "    name=name_from_base(\"model\"),\n",
    "    framework_version=\"2.2.0\",\n",
    "    role=\"AmazonSageMaker-ExecutionRole-20230719T105672\")\n",
    "\n",
    "predictor = model.deploy(initial_instance_count=1, instance_type='ml.c5.xlarge')"
   ]
  },
  {
   "cell_type": "markdown",
   "metadata": {},
   "source": [
    "### Alternative: invoke with `boto3`"
   ]
  },
  {
   "cell_type": "code",
   "execution_count": null,
   "metadata": {},
   "outputs": [],
   "source": [
    "runtime = boto3.client(\"sagemaker-runtime\")"
   ]
  },
  {
   "cell_type": "code",
   "execution_count": null,
   "metadata": {},
   "outputs": [],
   "source": [
    "import json\n",
    "\n",
    "payload = json.dumps({\n",
    "})\n",
    "\n",
    "response = runtime.invoke_endpoint(\n",
    "    EndpointName=predictor.endpoint,\n",
    "    Body=payload,\n",
    "    ContentType=\"application/json\",\n",
    ")\n",
    "\n",
    "print(response[\"Body\"].read())"
   ]
  },
  {
   "cell_type": "code",
   "execution_count": null,
   "metadata": {},
   "outputs": [],
   "source": [
    "sm_boto3.delete_endpoint(EndpointName=predictor.endpoint)"
   ]
  }
 ],
 "metadata": {
  "kernelspec": {
   "display_name": "Python 3",
   "language": "python",
   "name": "python3"
  },
  "language_info": {
   "codemirror_mode": {
    "name": "ipython",
    "version": 3
   },
   "file_extension": ".py",
   "mimetype": "text/x-python",
   "name": "python",
   "nbconvert_exporter": "python",
   "pygments_lexer": "ipython3",
   "version": "3.9.9"
  }
 },
 "nbformat": 4,
 "nbformat_minor": 4
}
