{
 "cells": [
  {
   "cell_type": "markdown",
   "metadata": {},
   "source": [
    "## Run config.sh script"
   ]
  },
  {
   "cell_type": "code",
   "execution_count": null,
   "metadata": {
    "tags": []
   },
   "outputs": [],
   "source": [
    "# Download requirements\n",
    "\n",
    "import subprocess\n",
    "\n",
    "print(\"Running config.sh\")\n",
    "subprocess.run([\"./config.sh\"],  stdout = subprocess.DEVNULL)\n",
    "\n",
    "print(\"DONE!\")"
   ]
  },
  {
   "cell_type": "markdown",
   "metadata": {},
   "source": [
    "## Init boto3 resources"
   ]
  },
  {
   "cell_type": "code",
   "execution_count": null,
   "metadata": {
    "tags": []
   },
   "outputs": [],
   "source": [
    "import boto3\n",
    "from sagemaker import get_execution_role\n",
    "import sagemaker\n",
    "\n",
    "sm_boto3 = boto3.client(\"sagemaker\")\n",
    "\n",
    "sess = sagemaker.Session()\n",
    "\n",
    "region = sess.boto_session.region_name\n",
    "\n",
    "bucket = sess.default_bucket()  # this could also be a hard-coded bucket name\n",
    "print(\"Using bucket \" + bucket)"
   ]
  },
  {
   "cell_type": "code",
   "execution_count": null,
   "metadata": {
    "tags": []
   },
   "outputs": [],
   "source": [
    "# List S3 bucket objects\n",
    "\n",
    "s3_boto = boto3.client(\"s3\")\n",
    "objects = s3_boto.list_objects_v2(Bucket=bucket)\n",
    "\n",
    "print(\"Current files in bucket\")\n",
    "for obj in objects['Contents']:\n",
    "    print(obj['Key'])\n",
    "    \n"
   ]
  },
  {
   "cell_type": "code",
   "execution_count": null,
   "metadata": {
    "tags": []
   },
   "outputs": [],
   "source": [
    "# Download data.\n",
    "import tarfile \n",
    "\n",
    "print(\"Download data\")\n",
    "s3_boto.download_file(bucket, \"data.tar.gz\", \"downloaded_data.tar.gz\")\n",
    "\n",
    "print(\"Extractintg data\")\n",
    "file = tarfile.open('downloaded_data.tar.gz')\n",
    "file.extractall('./')\n"
   ]
  },
  {
   "cell_type": "markdown",
   "metadata": {},
   "source": [
    "### Predict Example"
   ]
  },
  {
   "cell_type": "code",
   "execution_count": null,
   "metadata": {
    "tags": []
   },
   "outputs": [],
   "source": [
    "# Just an example to predict\n",
    "import tensorflow as tf\n",
    "import os\n",
    "import pickle\n",
    "import numpy as np\n",
    "from sentence_transformers import SentenceTransformer\n",
    "\n",
    "categorical_encoder_folder = \"./data/categorical_encoders/\"\n",
    "\n",
    "subject = \"Email subject\"\n",
    "sender_name = \"test\"\n",
    "sender_email = \"test@booking.com\"\n",
    "sender_domain = \"booking.com\"\n",
    "description = \"Example desription\"\n",
    "sender_string = \"%s (%s)\"%(sender_name, sender_email)\n",
    "# Step: Encode(custom TK encoder) to represent providerse\n",
    "sender_name_one_hot_encoder = pickle.load(open(categorical_encoder_folder + \"sender_name_one_hot_encoder.pkl\", \"rb\"))\n",
    "sender_email_one_hot_encoder = pickle.load(open(categorical_encoder_folder + \"sender_email_one_hot_encoder.pkl\", \"rb\"))\n",
    "sender_domain_one_hot_encoder = pickle.load(open(categorical_encoder_folder + \"sender_domain_one_hot_encoder.pkl\", \"rb\"))\n",
    "input_categorical_fea = np.concatenate([\n",
    "    sender_name_one_hot_encoder.transform(np.array(sender_name).reshape(-1, 1)),\n",
    "    sender_email_one_hot_encoder.transform(np.array(sender_email).reshape(-1, 1)),\n",
    "    sender_domain_one_hot_encoder.transform(np.array(sender_domain).reshape(-1, 1))\n",
    "], axis=1)\n",
    "\n",
    "# Step 2: Encode pure text(using google stuff)\n",
    "transformer_path = \"./data/distiluse-base-multilingual-cased-v2\"\n",
    "transformer = SentenceTransformer(transformer_path)\n",
    "\n",
    "subject_fea = transformer.encode(subject).reshape(1, -1)\n",
    "description_fea = transformer.encode(description).reshape(1, -1)\n",
    "sender_fea = transformer.encode(sender_string).reshape(1, -1)\n",
    "\n",
    "# Predict using the features.\n",
    "model = tf.keras.models.load_model('./data/phishing_classifier_simple.h5')\n",
    "# This has to be in the same order\n",
    "pred = model.predict([subject_fea, description_fea, sender_fea, input_categorical_fea])\n",
    "print(\"The possiblity of a phishing 0(phishing) -> 1(phishing)\")\n",
    "pred[0][0]"
   ]
  },
  {
   "cell_type": "code",
   "execution_count": null,
   "metadata": {
    "tags": []
   },
   "outputs": [],
   "source": [
    "import os.path\n",
    "import tarfile\n",
    "\n",
    "saved_model = model.to_json()\n",
    "\n",
    "# Write JSON object to S3 as \"keras-model.json\"\n",
    "client = boto3.client('s3')\n",
    "client.put_object(Body=saved_model,\n",
    "                  Bucket=bucket,\n",
    "                  Key='tk-phishing-model-v1.json')\n",
    "\n",
    "artificate_upload_file_name = \"tk-phishing-model-v1-artifacts.tar.gz\"\n",
    "\n",
    "with tarfile.open(artificate_upload_file_name, \"w:gz\") as tar:\n",
    "    source_dir = \"./data/phishing_classifier_simple.h5\"\n",
    "    tar.add(source_dir, arcname=os.path.basename(source_dir))\n",
    "\n",
    "client.upload_file('tk-phishing-model-v1-artifacts.tar.gz',\n",
    "                  bucket,\n",
    "                  'tk-phishing-model-v1-artifacts.tar.gz')\n"
   ]
  },
  {
   "cell_type": "markdown",
   "metadata": {},
   "source": [
    "## Writing a *Script Mode* script"
   ]
  },
  {
   "cell_type": "code",
   "execution_count": null,
   "metadata": {
    "tags": []
   },
   "outputs": [],
   "source": [
    "%%writefile script.py\n",
    "\n",
    "import boto3\n",
    "\n",
    "\n",
    "# inference functions ---------------\n",
    "def model_fn(model_dir):\n",
    "    bucket = \"sagemaker-eu-west-1-889192205753\" # hardcoded\n",
    "    s3_boto.download_file(bucket, \"tk-phishing-model-v1.json\", \"tk-phishing-model-v1.json\")\n",
    "\n",
    "    # Read the downloaded JSON file\n",
    "    with open('tk-phishing-model-v1.json', 'r') as model_file:\n",
    "       loaded_model = model_file.read()\n",
    "\n",
    "    clf = model_from_json(loaded_model)\n",
    "    return clf\n"
   ]
  },
  {
   "cell_type": "markdown",
   "metadata": {},
   "source": [
    "## Deploy to a real-time endpoint"
   ]
  },
  {
   "cell_type": "markdown",
   "metadata": {},
   "source": [
    "An `Estimator` could be deployed directly after training, with an `Estimator.deploy()` but here we showcase the more extensive process of creating a model from s3 artifacts, that could be used to deploy a model that was trained in a different session or even out of SageMaker."
   ]
  },
  {
   "cell_type": "code",
   "execution_count": null,
   "metadata": {
    "tags": []
   },
   "outputs": [],
   "source": [
    "from sagemaker.tensorflow import TensorFlowModel\n",
    "\n",
    "model = TensorFlowModel(\n",
    "    model_data='https://sagemaker-eu-west-1-889192205753.s3.eu-west-1.amazonaws.com/tk-phishing-model-v1-artifacts.tar.gz',\n",
    "    framework_version=\"2.13\",\n",
    "    role='AmazonSageMaker-ExecutionRole-20230719T105672')\n",
    "\n",
    "predictor = model.deploy(initial_instance_count=1, instance_type='ml.c5.xlarge')"
   ]
  },
  {
   "cell_type": "code",
   "execution_count": null,
   "metadata": {},
   "outputs": [],
   "source": [
    "predictor = model.deploy(instance_type=\"ml.c5.large\", initial_instance_count=1)"
   ]
  },
  {
   "cell_type": "markdown",
   "metadata": {},
   "source": [
    "### Alternative: invoke with `boto3`"
   ]
  },
  {
   "cell_type": "code",
   "execution_count": null,
   "metadata": {},
   "outputs": [],
   "source": [
    "runtime = boto3.client(\"sagemaker-runtime\")"
   ]
  },
  {
   "cell_type": "code",
   "execution_count": null,
   "metadata": {},
   "outputs": [],
   "source": [
    "# csv serialization\n",
    "response = runtime.invoke_endpoint(\n",
    "    EndpointName=predictor.endpoint,\n",
    "    Body=testX[data.feature_names].to_csv(header=False, index=False).encode(\"utf-8\"),\n",
    "    ContentType=\"text/csv\",\n",
    ")\n",
    "\n",
    "print(response[\"Body\"].read())"
   ]
  },
  {
   "cell_type": "code",
   "execution_count": null,
   "metadata": {},
   "outputs": [],
   "source": [
    "sm_boto3.delete_endpoint(EndpointName=predictor.endpoint)"
   ]
  },
  {
   "cell_type": "code",
   "execution_count": null,
   "metadata": {},
   "outputs": [],
   "source": []
  }
 ],
 "metadata": {
  "kernelspec": {
   "display_name": "Python 3",
   "language": "python",
   "name": "python3"
  },
  "language_info": {
   "codemirror_mode": {
    "name": "ipython",
    "version": 3
   },
   "file_extension": ".py",
   "mimetype": "text/x-python",
   "name": "python",
   "nbconvert_exporter": "python",
   "pygments_lexer": "ipython3",
   "version": "3.9.9"
  }
 },
 "nbformat": 4,
 "nbformat_minor": 4
}
