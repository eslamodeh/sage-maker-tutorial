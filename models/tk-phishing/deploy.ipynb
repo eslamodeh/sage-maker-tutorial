{
 "cells": [
  {
   "cell_type": "markdown",
   "metadata": {},
   "source": [
    "## Run config.sh script"
   ]
  },
  {
   "cell_type": "code",
   "execution_count": null,
   "metadata": {
    "tags": []
   },
   "outputs": [],
   "source": [
    "# Download requirements\n",
    "\n",
    "import subprocess\n",
    "\n",
    "print(\"Running config.sh\")\n",
    "subprocess.run([\"./config.sh\"],  stdout = subprocess.DEVNULL)\n",
    "\n",
    "print(\"DONE!\")"
   ]
  },
  {
   "cell_type": "markdown",
   "metadata": {},
   "source": [
    "## Init boto3 resources"
   ]
  },
  {
   "cell_type": "code",
   "execution_count": null,
   "metadata": {
    "tags": []
   },
   "outputs": [],
   "source": [
    "import boto3\n",
    "from sagemaker import get_execution_role\n",
    "import sagemaker\n",
    "\n",
    "sm_boto3 = boto3.client(\"sagemaker\")\n",
    "\n",
    "sess = sagemaker.Session()\n",
    "\n",
    "region = sess.boto_session.region_name\n",
    "\n",
    "bucket = sess.default_bucket()  # this could also be a hard-coded bucket name\n",
    "print(\"Using bucket \" + bucket)"
   ]
  },
  {
   "cell_type": "code",
   "execution_count": null,
   "metadata": {
    "tags": []
   },
   "outputs": [],
   "source": [
    "# List S3 bucket objects\n",
    "\n",
    "s3_boto = boto3.client(\"s3\")\n",
    "objects = s3_boto.list_objects_v2(Bucket=bucket)\n",
    "\n",
    "print(\"Current files in bucket\")\n",
    "for obj in objects['Contents']:\n",
    "    print(obj['Key'])\n",
    "    \n"
   ]
  },
  {
   "cell_type": "code",
   "execution_count": null,
   "metadata": {
    "tags": []
   },
   "outputs": [],
   "source": [
    "# Download data.\n",
    "import tarfile \n",
    "\n",
    "print(\"Download data\")\n",
    "s3_boto.download_file(bucket, \"data.tar.gz\", \"downloaded_data.tar.gz\")\n",
    "\n",
    "print(\"Extractintg data\")\n",
    "file = tarfile.open('downloaded_data.tar.gz')\n",
    "file.extractall('./')\n"
   ]
  },
  {
   "cell_type": "markdown",
   "metadata": {},
   "source": [
    "### Optional: Predict sample"
   ]
  },
  {
   "cell_type": "code",
   "execution_count": null,
   "metadata": {
    "tags": []
   },
   "outputs": [],
   "source": [
    "# Just an example to predict\n",
    "import tensorflow as tf\n",
    "import os\n",
    "import pickle\n",
    "import numpy as np\n",
    "from sentence_transformers import SentenceTransformer\n",
    "\n",
    "categorical_encoder_folder = \"./data/categorical_encoders/\"\n",
    "\n",
    "subject = \"Email subject\"\n",
    "sender_name = \"test\"\n",
    "sender_email = \"test@booking.com\"\n",
    "sender_domain = \"booking.com\"\n",
    "description = \"Example desription\"\n",
    "sender_string = \"%s (%s)\"%(sender_name, sender_email)\n",
    "\n",
    "sender_name_one_hot_encoder = pickle.load(open(categorical_encoder_folder + \"sender_name_one_hot_encoder.pkl\", \"rb\"))\n",
    "sender_email_one_hot_encoder = pickle.load(open(categorical_encoder_folder + \"sender_email_one_hot_encoder.pkl\", \"rb\"))\n",
    "sender_domain_one_hot_encoder = pickle.load(open(categorical_encoder_folder + \"sender_domain_one_hot_encoder.pkl\", \"rb\"))\n",
    "\n",
    "input_categorical_fea = np.concatenate([\n",
    "    sender_name_one_hot_encoder.transform(np.array(sender_name).reshape(-1, 1)),\n",
    "    sender_email_one_hot_encoder.transform(np.array(sender_email).reshape(-1, 1)),\n",
    "    sender_domain_one_hot_encoder.transform(np.array(sender_domain).reshape(-1, 1))\n",
    "], axis=1)\n",
    "\n",
    "\n",
    "transformer_path = \"./data/distiluse-base-multilingual-cased-v2\"\n",
    "transformer = SentenceTransformer(transformer_path)\n",
    "\n",
    "subject_fea = transformer.encode(subject).reshape(1, -1)\n",
    "description_fea = transformer.encode(description).reshape(1, -1)\n",
    "sender_fea = transformer.encode(sender_string).reshape(1, -1)\n",
    "\n",
    "model = tf.keras.models.load_model('./data/phishing_classifier_simple.h5')\n",
    "\n",
    "pred = model.predict([subject_fea, description_fea, sender_fea, input_categorical_fea])\n",
    "pred"
   ]
  },
  {
   "cell_type": "markdown",
   "metadata": {},
   "source": [
    "## Writing a *Script Mode* script"
   ]
  },
  {
   "cell_type": "code",
   "execution_count": null,
   "metadata": {},
   "outputs": [],
   "source": [
    "%%writefile script.py\n",
    "\n",
    "import argparse\n",
    "import joblib\n",
    "import os\n",
    "\n",
    "import numpy as np\n",
    "import pandas as pd\n",
    "from sklearn.ensemble import RandomForestRegressor\n",
    "\n",
    "\n",
    "# inference functions ---------------\n",
    "def model_fn(model_dir):\n",
    "    clf = tf.keras.models.load_model('./data/phishing_classifier_simple.h5')\n",
    "    # clf = joblib.load(os.path.join(model_dir, \"model.joblib\"))\n",
    "    return clf\n"
   ]
  },
  {
   "cell_type": "markdown",
   "metadata": {},
   "source": [
    "## Deploy to a real-time endpoint"
   ]
  },
  {
   "cell_type": "markdown",
   "metadata": {},
   "source": [
    "An `Estimator` could be deployed directly after training, with an `Estimator.deploy()` but here we showcase the more extensive process of creating a model from s3 artifacts, that could be used to deploy a model that was trained in a different session or even out of SageMaker."
   ]
  },
  {
   "cell_type": "code",
   "execution_count": null,
   "metadata": {},
   "outputs": [],
   "source": [
    "from sagemaker.sklearn.model import SKLearnModel\n",
    "\n",
    "artifact = \"https://sagemaker-eu-west-1-889192205753.s3.eu-west-1.amazonaws.com/phishing_classifier_simple.h5\"\n",
    "\n",
    "model = SKLearnModel(\n",
    "    model_data=artifact,\n",
    "    role=get_execution_role(),\n",
    "    entry_point=\"script.py\",\n",
    ")"
   ]
  },
  {
   "cell_type": "code",
   "execution_count": null,
   "metadata": {},
   "outputs": [],
   "source": [
    "predictor = model.deploy(instance_type=\"ml.c5.large\", initial_instance_count=1)"
   ]
  },
  {
   "cell_type": "markdown",
   "metadata": {},
   "source": [
    "### Alternative: invoke with `boto3`"
   ]
  },
  {
   "cell_type": "code",
   "execution_count": null,
   "metadata": {},
   "outputs": [],
   "source": [
    "runtime = boto3.client(\"sagemaker-runtime\")"
   ]
  },
  {
   "cell_type": "code",
   "execution_count": null,
   "metadata": {},
   "outputs": [],
   "source": [
    "# csv serialization\n",
    "response = runtime.invoke_endpoint(\n",
    "    EndpointName=predictor.endpoint,\n",
    "    Body=testX[data.feature_names].to_csv(header=False, index=False).encode(\"utf-8\"),\n",
    "    ContentType=\"text/csv\",\n",
    ")\n",
    "\n",
    "print(response[\"Body\"].read())"
   ]
  },
  {
   "cell_type": "code",
   "execution_count": null,
   "metadata": {},
   "outputs": [],
   "source": [
    "sm_boto3.delete_endpoint(EndpointName=predictor.endpoint)"
   ]
  },
  {
   "cell_type": "code",
   "execution_count": null,
   "metadata": {},
   "outputs": [],
   "source": []
  }
 ],
 "metadata": {
  "kernelspec": {
   "display_name": "conda_tensorflow2_p310",
   "language": "python",
   "name": "conda_tensorflow2_p310"
  },
  "language_info": {
   "codemirror_mode": {
    "name": "ipython",
    "version": 3
   },
   "file_extension": ".py",
   "mimetype": "text/x-python",
   "name": "python",
   "nbconvert_exporter": "python",
   "pygments_lexer": "ipython3",
   "version": "3.10.13"
  }
 },
 "nbformat": 4,
 "nbformat_minor": 4
}
